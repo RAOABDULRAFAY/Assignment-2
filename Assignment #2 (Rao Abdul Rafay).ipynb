{
 "cells": [
  {
   "cell_type": "code",
   "execution_count": 38,
   "metadata": {},
   "outputs": [
    {
     "name": "stdout",
     "output_type": "stream",
     "text": [
      "Enter marks of the 1st subject: 88\n",
      "Enter marks of the 2nd subject: 56\n",
      "Enter marks of the 3rd subject: 78\n",
      "Enter marks of the 4th subject: 98\n",
      "Enter marks of the 5th subject: 68\n",
      "Obtained Percentage: 77.6 %\n",
      "Grade: B\n"
     ]
    }
   ],
   "source": [
    "#1. Write a program which takes 5 inputs from user for different subject’smarks, total it and generate mark sheet using grades ?\n",
    "\n",
    "sub1=float(input(\"Enter marks of the 1st subject: \"))\n",
    "sub2=float(input(\"Enter marks of the 2nd subject: \"))\n",
    "sub3=float(input(\"Enter marks of the 3rd subject: \"))\n",
    "sub4=float(input(\"Enter marks of the 4th subject: \"))\n",
    "sub5=float(input(\"Enter marks of the 5th subject: \"))\n",
    "\n",
    "sum= (sub1 + sub2 + sub3 + sub4 + sub5)*100\n",
    "\n",
    "Obtained_Marks = sum / 500\n",
    "print(\"Obtained Percentage:\",(Obtained_Marks),\"%\")\n",
    "\n",
    "if(Obtained_Marks >= 85):\n",
    "    print(\"Grade: A\")\n",
    "elif(Obtained_Marks >= 80 and Obtained_Marks <85):\n",
    "    print(\"Grade: B+\")\n",
    "elif(Obtained_Marks>=72 and Obtained_Marks<80):\n",
    "    print(\"Grade: B\")\n",
    "elif(Obtained_Marks>=66 and Obtained_Marks<72):\n",
    "    print(\"Grade: C+\")\n",
    "elif(Obtained_Marks>=60 and Obtained_Marks<66):\n",
    "    print(\"Grade: C\")\n",
    "elif(Obtained_Marks>=50 and Obtained_Marks<60):\n",
    "    print(\"Grade: D\")    \n",
    "else:\n",
    "    print(\"Grade: F\")"
   ]
  },
  {
   "cell_type": "code",
   "execution_count": 42,
   "metadata": {},
   "outputs": [
    {
     "name": "stdout",
     "output_type": "stream",
     "text": [
      "Enter a number: 5\n",
      "5 is Odd\n"
     ]
    }
   ],
   "source": [
    "#2. Write a program which take input from user and identify that the given number is even or odd?\n",
    "num = int(input(\"Enter a number: \"))\n",
    "if (num % 2) == 0:\n",
    "    print(\"{0} is Even\".format(num))\n",
    "else:\n",
    "    print(\"{0} is Odd\".format(num))"
   ]
  },
  {
   "cell_type": "code",
   "execution_count": 45,
   "metadata": {},
   "outputs": [
    {
     "name": "stdout",
     "output_type": "stream",
     "text": [
      "Enter a string: 78995\n",
      "Length of the input string is: 5\n"
     ]
    }
   ],
   "source": [
    "#3. Write a program which print the length of the list?\n",
    "\n",
    "str = input(\"Enter a string: \")\n",
    "counter = 0\n",
    "for a in str:\n",
    "      counter = counter+1\n",
    "print(\"Length of the input string is:\", counter)"
   ]
  },
  {
   "cell_type": "code",
   "execution_count": 47,
   "metadata": {},
   "outputs": [
    {
     "name": "stdout",
     "output_type": "stream",
     "text": [
      "20\n"
     ]
    }
   ],
   "source": [
    "#4. Write a Python program to sum all the numeric items in a list?\n",
    "def sum(number):\n",
    "    total = 0\n",
    "    for x in number:\n",
    "        total += x\n",
    "    return total\n",
    "print(sum((8, 2, 3, 0, 7)))"
   ]
  },
  {
   "cell_type": "code",
   "execution_count": 51,
   "metadata": {},
   "outputs": [
    {
     "name": "stdout",
     "output_type": "stream",
     "text": [
      "20\n"
     ]
    }
   ],
   "source": [
    "#5. Write a Python program to get the largest number from a numeric list.\n",
    "def largest_number( list ):\n",
    "    max = list[ 0 ]\n",
    "    for a in list:\n",
    "        if a > max:\n",
    "            max = a\n",
    "    return max\n",
    "print(largest_number([20, 9, -8, 15]))"
   ]
  },
  {
   "cell_type": "code",
   "execution_count": 65,
   "metadata": {},
   "outputs": [
    {
     "name": "stdout",
     "output_type": "stream",
     "text": [
      "1\n",
      "1\n",
      "2\n",
      "3\n",
      "2\n",
      "4\n",
      "4\n"
     ]
    }
   ],
   "source": [
    "#Take a list, say for example this one: a = [1, 1, 2, 3, 5, 8, 13, 21, 34, 55, 89]\n",
    "#and write a program that prints out all the elements of the list that are less than 5.\n",
    "\n",
    "a = [1, 1, 2, 3, 5, 2, 13, 4, 4, 5, 89]\n",
    "def print_item():\n",
    "    for item in range(len(a)):\n",
    "        if a[item] < 5:\n",
    "            print(a[item])\n",
    "print_item()"
   ]
  },
  {
   "cell_type": "code",
   "execution_count": null,
   "metadata": {},
   "outputs": [],
   "source": []
  },
  {
   "cell_type": "code",
   "execution_count": null,
   "metadata": {},
   "outputs": [],
   "source": []
  }
 ],
 "metadata": {
  "kernelspec": {
   "display_name": "Python 3",
   "language": "python",
   "name": "python3"
  },
  "language_info": {
   "codemirror_mode": {
    "name": "ipython",
    "version": 3
   },
   "file_extension": ".py",
   "mimetype": "text/x-python",
   "name": "python",
   "nbconvert_exporter": "python",
   "pygments_lexer": "ipython3",
   "version": "3.7.4"
  }
 },
 "nbformat": 4,
 "nbformat_minor": 2
}
